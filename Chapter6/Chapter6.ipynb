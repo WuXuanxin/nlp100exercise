{
 "cells": [
  {
   "cell_type": "code",
   "execution_count": 1,
   "metadata": {},
   "outputs": [
    {
     "name": "stdout",
     "output_type": "stream",
     "text": [
      "train ----  (10672, 2)\n",
      "b    4502\n",
      "e    4223\n",
      "t    1219\n",
      "m     728\n",
      "Name: category, dtype: int64\n",
      "valid ----  (1334, 2)\n",
      "b    562\n",
      "e    528\n",
      "t    153\n",
      "m     91\n",
      "Name: category, dtype: int64\n",
      "test ---- (1334, 2)\n",
      "b    563\n",
      "e    528\n",
      "t    152\n",
      "m     91\n",
      "Name: category, dtype: int64\n"
     ]
    }
   ],
   "source": [
    "# 50.データの入手・整形\n",
    "import pandas as pd\n",
    "from sklearn.model_selection import train_test_split\n",
    "\n",
    "# (1.)\n",
    "# !unzip NewsAggregatorDataset.zip -d NewsAggregatorDataset\n",
    "\n",
    "# (2.)\n",
    "df = pd.read_csv('NewsAggregatorDataset/newsCorpora.csv', header=None, sep='\\t',\n",
    "                 names=['id', 'title', 'url', 'publisher', 'category', 'story', 'hostname', 'timestamp'])\n",
    "cols = ['Reuters', 'Huffington Post', 'Businessweek', 'Contactmusic.com', 'Daily Mail']\n",
    "df = df[df['publisher'].isin(cols)]\n",
    "\n",
    "# (3.)\n",
    "df = df.sample(frac=1, random_state=42).reset_index(drop=True)\n",
    "\n",
    "# (4.)\n",
    "# train 0.8, valid 0.1, test 0.1\n",
    "train, valid_test = train_test_split(df, test_size=0.2, random_state=42, stratify=df['category'])\n",
    "valid, test = train_test_split(valid_test, test_size=0.5, random_state=42, stratify=valid_test['category'])\n",
    "\n",
    "# データの保存\n",
    "train = train[['title','category']].reset_index(drop=True)\n",
    "valid = valid[['title','category']].reset_index(drop=True)\n",
    "train_valid = pd.concat([train, valid], axis=0)\n",
    "test = test[['title','category']].reset_index(drop=True)\n",
    "\n",
    "\n",
    "train.to_csv('train.txt', sep='\\t', index=False)\n",
    "valid.to_csv('valid.txt', sep='\\t', index=False)\n",
    "test.to_csv('test.txt', sep='\\t', index=False)\n",
    "\n",
    "print('train ---- ', train.shape)\n",
    "print(train['category'].value_counts())\n",
    "print('valid ---- ', valid.shape)\n",
    "print(valid['category'].value_counts())\n",
    "print('test ----', test.shape)\n",
    "print(test['category'].value_counts())"
   ]
  },
  {
   "cell_type": "code",
   "execution_count": 3,
   "metadata": {},
   "outputs": [],
   "source": [
    "# 51. 特徴量抽出\n",
    "\"\"\"\n",
    "51. 特徴量抽出\n",
    "学習データ，検証データ，評価データから特徴量を抽出し，それぞれtrain.feature.txt，valid.feature.txt，test.feature.txtというファイル名で保存せよ． \n",
    "なお，カテゴリ分類に有用そうな特徴量は各自で自由に設計せよ．記事の見出しを単語列に変換したものが最低限のベースラインとなるであろう．\n",
    "\"\"\"\n",
    "import re\n",
    "import string\n",
    "import unicodedata\n",
    "import nltk\n",
    "from nltk.corpus import stopwords\n",
    "from nltk.tokenize import word_tokenize\n",
    "from sklearn.feature_extraction.text import TfidfVectorizer\n",
    "\n",
    "# 前処理\n",
    "def preprocess(text):\n",
    "    # Remove diacritics\n",
    "    text = unicodedata.normalize('NFD', text).encode('ascii', 'ignore').decode(\"utf-8\")\n",
    "\n",
    "    # Lowercase the string\n",
    "    text = text.lower()\n",
    "\n",
    "    # Remove punctuation\n",
    "    text = ''.join(c for c in text if c not in string.punctuation)\n",
    "\n",
    "    # Remove numbers\n",
    "    text = re.sub('\\d', '', text)\n",
    "\n",
    "    # Remove stopwords\n",
    "    stop_words = set(stopwords.words('english'))\n",
    "    word_tokens = word_tokenize(text)\n",
    "    clean_text = [w for w in word_tokens if not w in stop_words]\n",
    "\n",
    "    return ' '.join(clean_text)\n",
    "\n",
    "train_valid['clean_title'] = train_valid['title'].apply(preprocess)\n",
    "test['clean_title'] = test['title'].apply(preprocess)\n",
    "\n"
   ]
  },
  {
   "attachments": {},
   "cell_type": "markdown",
   "metadata": {},
   "source": [
    "Note：\n",
    "https://medium.com/@cmukesh8688/tf-idf-vectorizer-scikit-learn-dbc0244a911a\n",
    "\n",
    "https://datascience.stackexchange.com/questions/12321/whats-the-difference-between-fit-and-fit-transform-in-scikit-learn-models/12346#12346"
   ]
  },
  {
   "cell_type": "code",
   "execution_count": 33,
   "metadata": {},
   "outputs": [
    {
     "name": "stdout",
     "output_type": "stream",
     "text": [
      "X_train ----  (10672, 4960)\n",
      "X_valid ----  (1334, 4960)\n",
      "X_test ----  (1334, 4960)\n"
     ]
    }
   ],
   "source": [
    "# 特徴量抽出\n",
    "# TfidfVectorizer\n",
    "# Ignore terms that have a document frequency lower than 5 and higher than 5% \n",
    "vec_tfidf = TfidfVectorizer(min_df=5, max_df=0.05, ngram_range=(1, 2))\n",
    "\n",
    "# ベクトル化\n",
    "X_train_valid = vec_tfidf.fit_transform(train_valid['clean_title'])  # testの情報は使わない\n",
    "X_test = vec_tfidf.transform(test['clean_title'])\n",
    "\n",
    "# ベクトルをデータフレームに変換\n",
    "X_train_valid = pd.DataFrame(X_train_valid.toarray(), columns=vec_tfidf.get_feature_names_out())\n",
    "X_test = pd.DataFrame(X_test.toarray(), columns=vec_tfidf.get_feature_names_out())\n",
    "\n",
    "# 分割して保存\n",
    "X_train = X_train_valid[:len(train)].reset_index(drop=True)\n",
    "X_valid = X_train_valid[len(train):].reset_index(drop=True)\n",
    "\n",
    "X_train.to_csv('X_train.txt', sep='\\t', index=False)\n",
    "X_valid.to_csv('X_valid.txt', sep='\\t', index=False)\n",
    "X_test.to_csv('X_test.txt', sep='\\t', index=False)\n",
    "\n",
    "print('X_train ---- ', X_train.shape)\n",
    "print('X_valid ---- ', X_valid.shape)\n",
    "print('X_test ---- ', X_test.shape)"
   ]
  },
  {
   "cell_type": "code",
   "execution_count": 34,
   "metadata": {},
   "outputs": [
    {
     "data": {
      "text/html": [
       "<div>\n",
       "<style scoped>\n",
       "    .dataframe tbody tr th:only-of-type {\n",
       "        vertical-align: middle;\n",
       "    }\n",
       "\n",
       "    .dataframe tbody tr th {\n",
       "        vertical-align: top;\n",
       "    }\n",
       "\n",
       "    .dataframe thead th {\n",
       "        text-align: right;\n",
       "    }\n",
       "</style>\n",
       "<table border=\"1\" class=\"dataframe\">\n",
       "  <thead>\n",
       "    <tr style=\"text-align: right;\">\n",
       "      <th></th>\n",
       "      <th>aa</th>\n",
       "      <th>aa outlook</th>\n",
       "      <th>aaa</th>\n",
       "      <th>aaliyah</th>\n",
       "      <th>aaliyah lifetime</th>\n",
       "      <th>abbvie</th>\n",
       "      <th>abc</th>\n",
       "      <th>abortion</th>\n",
       "      <th>abrams</th>\n",
       "      <th>abramson</th>\n",
       "      <th>...</th>\n",
       "      <th>zebra</th>\n",
       "      <th>zendaya</th>\n",
       "      <th>zeppelin</th>\n",
       "      <th>zero</th>\n",
       "      <th>zone</th>\n",
       "      <th>zone bond</th>\n",
       "      <th>zone bonds</th>\n",
       "      <th>zone inflation</th>\n",
       "      <th>zs</th>\n",
       "      <th>zuckerberg</th>\n",
       "    </tr>\n",
       "  </thead>\n",
       "  <tbody>\n",
       "    <tr>\n",
       "      <th>0</th>\n",
       "      <td>0.0</td>\n",
       "      <td>0.0</td>\n",
       "      <td>0.0</td>\n",
       "      <td>0.0</td>\n",
       "      <td>0.0</td>\n",
       "      <td>0.0</td>\n",
       "      <td>0.0</td>\n",
       "      <td>0.0</td>\n",
       "      <td>0.0</td>\n",
       "      <td>0.0</td>\n",
       "      <td>...</td>\n",
       "      <td>0.0</td>\n",
       "      <td>0.0</td>\n",
       "      <td>0.0</td>\n",
       "      <td>0.0</td>\n",
       "      <td>0.0</td>\n",
       "      <td>0.0</td>\n",
       "      <td>0.0</td>\n",
       "      <td>0.0</td>\n",
       "      <td>0.0</td>\n",
       "      <td>0.0</td>\n",
       "    </tr>\n",
       "    <tr>\n",
       "      <th>1</th>\n",
       "      <td>0.0</td>\n",
       "      <td>0.0</td>\n",
       "      <td>0.0</td>\n",
       "      <td>0.0</td>\n",
       "      <td>0.0</td>\n",
       "      <td>0.0</td>\n",
       "      <td>0.0</td>\n",
       "      <td>0.0</td>\n",
       "      <td>0.0</td>\n",
       "      <td>0.0</td>\n",
       "      <td>...</td>\n",
       "      <td>0.0</td>\n",
       "      <td>0.0</td>\n",
       "      <td>0.0</td>\n",
       "      <td>0.0</td>\n",
       "      <td>0.0</td>\n",
       "      <td>0.0</td>\n",
       "      <td>0.0</td>\n",
       "      <td>0.0</td>\n",
       "      <td>0.0</td>\n",
       "      <td>0.0</td>\n",
       "    </tr>\n",
       "    <tr>\n",
       "      <th>2</th>\n",
       "      <td>0.0</td>\n",
       "      <td>0.0</td>\n",
       "      <td>0.0</td>\n",
       "      <td>0.0</td>\n",
       "      <td>0.0</td>\n",
       "      <td>0.0</td>\n",
       "      <td>0.0</td>\n",
       "      <td>0.0</td>\n",
       "      <td>0.0</td>\n",
       "      <td>0.0</td>\n",
       "      <td>...</td>\n",
       "      <td>0.0</td>\n",
       "      <td>0.0</td>\n",
       "      <td>0.0</td>\n",
       "      <td>0.0</td>\n",
       "      <td>0.0</td>\n",
       "      <td>0.0</td>\n",
       "      <td>0.0</td>\n",
       "      <td>0.0</td>\n",
       "      <td>0.0</td>\n",
       "      <td>0.0</td>\n",
       "    </tr>\n",
       "    <tr>\n",
       "      <th>3</th>\n",
       "      <td>0.0</td>\n",
       "      <td>0.0</td>\n",
       "      <td>0.0</td>\n",
       "      <td>0.0</td>\n",
       "      <td>0.0</td>\n",
       "      <td>0.0</td>\n",
       "      <td>0.0</td>\n",
       "      <td>0.0</td>\n",
       "      <td>0.0</td>\n",
       "      <td>0.0</td>\n",
       "      <td>...</td>\n",
       "      <td>0.0</td>\n",
       "      <td>0.0</td>\n",
       "      <td>0.0</td>\n",
       "      <td>0.0</td>\n",
       "      <td>0.0</td>\n",
       "      <td>0.0</td>\n",
       "      <td>0.0</td>\n",
       "      <td>0.0</td>\n",
       "      <td>0.0</td>\n",
       "      <td>0.0</td>\n",
       "    </tr>\n",
       "    <tr>\n",
       "      <th>4</th>\n",
       "      <td>0.0</td>\n",
       "      <td>0.0</td>\n",
       "      <td>0.0</td>\n",
       "      <td>0.0</td>\n",
       "      <td>0.0</td>\n",
       "      <td>0.0</td>\n",
       "      <td>0.0</td>\n",
       "      <td>0.0</td>\n",
       "      <td>0.0</td>\n",
       "      <td>0.0</td>\n",
       "      <td>...</td>\n",
       "      <td>0.0</td>\n",
       "      <td>0.0</td>\n",
       "      <td>0.0</td>\n",
       "      <td>0.0</td>\n",
       "      <td>0.0</td>\n",
       "      <td>0.0</td>\n",
       "      <td>0.0</td>\n",
       "      <td>0.0</td>\n",
       "      <td>0.0</td>\n",
       "      <td>0.0</td>\n",
       "    </tr>\n",
       "  </tbody>\n",
       "</table>\n",
       "<p>5 rows × 4960 columns</p>\n",
       "</div>"
      ],
      "text/plain": [
       "    aa  aa outlook  aaa  aaliyah  aaliyah lifetime  abbvie  abc  abortion  \\\n",
       "0  0.0         0.0  0.0      0.0               0.0     0.0  0.0       0.0   \n",
       "1  0.0         0.0  0.0      0.0               0.0     0.0  0.0       0.0   \n",
       "2  0.0         0.0  0.0      0.0               0.0     0.0  0.0       0.0   \n",
       "3  0.0         0.0  0.0      0.0               0.0     0.0  0.0       0.0   \n",
       "4  0.0         0.0  0.0      0.0               0.0     0.0  0.0       0.0   \n",
       "\n",
       "   abrams  abramson  ...  zebra  zendaya  zeppelin  zero  zone  zone bond  \\\n",
       "0     0.0       0.0  ...    0.0      0.0       0.0   0.0   0.0        0.0   \n",
       "1     0.0       0.0  ...    0.0      0.0       0.0   0.0   0.0        0.0   \n",
       "2     0.0       0.0  ...    0.0      0.0       0.0   0.0   0.0        0.0   \n",
       "3     0.0       0.0  ...    0.0      0.0       0.0   0.0   0.0        0.0   \n",
       "4     0.0       0.0  ...    0.0      0.0       0.0   0.0   0.0        0.0   \n",
       "\n",
       "   zone bonds  zone inflation   zs  zuckerberg  \n",
       "0         0.0             0.0  0.0         0.0  \n",
       "1         0.0             0.0  0.0         0.0  \n",
       "2         0.0             0.0  0.0         0.0  \n",
       "3         0.0             0.0  0.0         0.0  \n",
       "4         0.0             0.0  0.0         0.0  \n",
       "\n",
       "[5 rows x 4960 columns]"
      ]
     },
     "execution_count": 34,
     "metadata": {},
     "output_type": "execute_result"
    }
   ],
   "source": [
    "X_train.head()"
   ]
  },
  {
   "cell_type": "code",
   "execution_count": 35,
   "metadata": {},
   "outputs": [
    {
     "data": {
      "text/html": [
       "<style>#sk-container-id-5 {color: black;background-color: white;}#sk-container-id-5 pre{padding: 0;}#sk-container-id-5 div.sk-toggleable {background-color: white;}#sk-container-id-5 label.sk-toggleable__label {cursor: pointer;display: block;width: 100%;margin-bottom: 0;padding: 0.3em;box-sizing: border-box;text-align: center;}#sk-container-id-5 label.sk-toggleable__label-arrow:before {content: \"▸\";float: left;margin-right: 0.25em;color: #696969;}#sk-container-id-5 label.sk-toggleable__label-arrow:hover:before {color: black;}#sk-container-id-5 div.sk-estimator:hover label.sk-toggleable__label-arrow:before {color: black;}#sk-container-id-5 div.sk-toggleable__content {max-height: 0;max-width: 0;overflow: hidden;text-align: left;background-color: #f0f8ff;}#sk-container-id-5 div.sk-toggleable__content pre {margin: 0.2em;color: black;border-radius: 0.25em;background-color: #f0f8ff;}#sk-container-id-5 input.sk-toggleable__control:checked~div.sk-toggleable__content {max-height: 200px;max-width: 100%;overflow: auto;}#sk-container-id-5 input.sk-toggleable__control:checked~label.sk-toggleable__label-arrow:before {content: \"▾\";}#sk-container-id-5 div.sk-estimator input.sk-toggleable__control:checked~label.sk-toggleable__label {background-color: #d4ebff;}#sk-container-id-5 div.sk-label input.sk-toggleable__control:checked~label.sk-toggleable__label {background-color: #d4ebff;}#sk-container-id-5 input.sk-hidden--visually {border: 0;clip: rect(1px 1px 1px 1px);clip: rect(1px, 1px, 1px, 1px);height: 1px;margin: -1px;overflow: hidden;padding: 0;position: absolute;width: 1px;}#sk-container-id-5 div.sk-estimator {font-family: monospace;background-color: #f0f8ff;border: 1px dotted black;border-radius: 0.25em;box-sizing: border-box;margin-bottom: 0.5em;}#sk-container-id-5 div.sk-estimator:hover {background-color: #d4ebff;}#sk-container-id-5 div.sk-parallel-item::after {content: \"\";width: 100%;border-bottom: 1px solid gray;flex-grow: 1;}#sk-container-id-5 div.sk-label:hover label.sk-toggleable__label {background-color: #d4ebff;}#sk-container-id-5 div.sk-serial::before {content: \"\";position: absolute;border-left: 1px solid gray;box-sizing: border-box;top: 0;bottom: 0;left: 50%;z-index: 0;}#sk-container-id-5 div.sk-serial {display: flex;flex-direction: column;align-items: center;background-color: white;padding-right: 0.2em;padding-left: 0.2em;position: relative;}#sk-container-id-5 div.sk-item {position: relative;z-index: 1;}#sk-container-id-5 div.sk-parallel {display: flex;align-items: stretch;justify-content: center;background-color: white;position: relative;}#sk-container-id-5 div.sk-item::before, #sk-container-id-5 div.sk-parallel-item::before {content: \"\";position: absolute;border-left: 1px solid gray;box-sizing: border-box;top: 0;bottom: 0;left: 50%;z-index: -1;}#sk-container-id-5 div.sk-parallel-item {display: flex;flex-direction: column;z-index: 1;position: relative;background-color: white;}#sk-container-id-5 div.sk-parallel-item:first-child::after {align-self: flex-end;width: 50%;}#sk-container-id-5 div.sk-parallel-item:last-child::after {align-self: flex-start;width: 50%;}#sk-container-id-5 div.sk-parallel-item:only-child::after {width: 0;}#sk-container-id-5 div.sk-dashed-wrapped {border: 1px dashed gray;margin: 0 0.4em 0.5em 0.4em;box-sizing: border-box;padding-bottom: 0.4em;background-color: white;}#sk-container-id-5 div.sk-label label {font-family: monospace;font-weight: bold;display: inline-block;line-height: 1.2em;}#sk-container-id-5 div.sk-label-container {text-align: center;}#sk-container-id-5 div.sk-container {/* jupyter's `normalize.less` sets `[hidden] { display: none; }` but bootstrap.min.css set `[hidden] { display: none !important; }` so we also need the `!important` here to be able to override the default hidden behavior on the sphinx rendered scikit-learn.org. See: https://github.com/scikit-learn/scikit-learn/issues/21755 */display: inline-block !important;position: relative;}#sk-container-id-5 div.sk-text-repr-fallback {display: none;}</style><div id=\"sk-container-id-5\" class=\"sk-top-container\"><div class=\"sk-text-repr-fallback\"><pre>LogisticRegression(max_iter=10000, random_state=123)</pre><b>In a Jupyter environment, please rerun this cell to show the HTML representation or trust the notebook. <br />On GitHub, the HTML representation is unable to render, please try loading this page with nbviewer.org.</b></div><div class=\"sk-container\" hidden><div class=\"sk-item\"><div class=\"sk-estimator sk-toggleable\"><input class=\"sk-toggleable__control sk-hidden--visually\" id=\"sk-estimator-id-5\" type=\"checkbox\" checked><label for=\"sk-estimator-id-5\" class=\"sk-toggleable__label sk-toggleable__label-arrow\">LogisticRegression</label><div class=\"sk-toggleable__content\"><pre>LogisticRegression(max_iter=10000, random_state=123)</pre></div></div></div></div></div>"
      ],
      "text/plain": [
       "LogisticRegression(max_iter=10000, random_state=123)"
      ]
     },
     "execution_count": 35,
     "metadata": {},
     "output_type": "execute_result"
    }
   ],
   "source": [
    "# 52. 学習\n",
    "from sklearn.linear_model import LogisticRegression\n",
    "\n",
    "# モデルの学習\n",
    "lg = LogisticRegression(random_state=123, solver='lbfgs', max_iter=10000)\n",
    "lg.fit(X_train, train['category'])"
   ]
  },
  {
   "cell_type": "code",
   "execution_count": 36,
   "metadata": {},
   "outputs": [
    {
     "name": "stdout",
     "output_type": "stream",
     "text": [
      "[array(['e', 'b', 't', ..., 'e', 'b', 'b'], dtype=object), array([0.84295916, 0.97893811, 0.54671478, ..., 0.94595864, 0.83843938,\n",
      "       0.75087409])]\n"
     ]
    }
   ],
   "source": [
    "# 53. 予測\n",
    "import numpy as np\n",
    "\n",
    "def score_lg(lg, X):\n",
    "  return [lg.predict(X), np.max(lg.predict_proba(X), axis=1)]\n",
    "\n",
    "valid_pred = score_lg(lg, X_valid)\n",
    "train_pred = score_lg(lg, X_train)\n",
    "test_pred = score_lg(lg, X_test)\n",
    "\n",
    "print(train_pred)"
   ]
  },
  {
   "cell_type": "code",
   "execution_count": 37,
   "metadata": {},
   "outputs": [
    {
     "name": "stdout",
     "output_type": "stream",
     "text": [
      "正解率（学習データ）：0.943\n",
      "正解率（検証データ）：0.880\n",
      "正解率（評価データ）：0.885\n"
     ]
    }
   ],
   "source": [
    "# 54. 正解率の計測\n",
    "from sklearn.metrics import accuracy_score\n",
    "\n",
    "train_accuracy = accuracy_score(train['category'], train_pred[0])\n",
    "valid_accuracy = accuracy_score(valid['category'], valid_pred[0])\n",
    "test_accuracy = accuracy_score(test['category'], test_pred[0])\n",
    "print(f'正解率（学習データ）：{train_accuracy:.3f}')\n",
    "print(f'正解率（検証データ）：{valid_accuracy:.3f}')\n",
    "print(f'正解率（評価データ）：{test_accuracy:.3f}')"
   ]
  },
  {
   "cell_type": "code",
   "execution_count": 38,
   "metadata": {},
   "outputs": [
    {
     "name": "stdout",
     "output_type": "stream",
     "text": [
      "[[4419   43    3   37]\n",
      " [  26 4190    1    6]\n",
      " [  90  109  523    6]\n",
      " [ 186   95    6  932]]\n"
     ]
    },
    {
     "data": {
      "text/plain": [
       "<sklearn.metrics._plot.confusion_matrix.ConfusionMatrixDisplay at 0x2b005e890>"
      ]
     },
     "execution_count": 38,
     "metadata": {},
     "output_type": "execute_result"
    },
    {
     "data": {
      "image/png": "[encoded data removed]",
      "text/plain": [
       "<Figure size 640x480 with 2 Axes>"
      ]
     },
     "metadata": {},
     "output_type": "display_data"
    }
   ],
   "source": [
    "# 55. 混同行列の作成\n",
    "from sklearn.metrics import confusion_matrix, ConfusionMatrixDisplay\n",
    "# import seaborn as sns\n",
    "import matplotlib.pyplot as plt\n",
    "\n",
    "# 学習データ\n",
    "train_cm = confusion_matrix(train['category'], train_pred[0], labels = lg.classes_ )\n",
    "print(train_cm)\n",
    "train_disp = ConfusionMatrixDisplay(confusion_matrix= train_cm, display_labels= lg.classes_)\n",
    "train_disp.plot(cmap=plt.cm.Blues)"
   ]
  },
  {
   "cell_type": "code",
   "execution_count": 40,
   "metadata": {},
   "outputs": [
    {
     "name": "stdout",
     "output_type": "stream",
     "text": [
      "[[532  20   2   9]\n",
      " [ 13 514   0   1]\n",
      " [ 17  21  53   0]\n",
      " [ 42  28   1  81]]\n"
     ]
    },
    {
     "data": {
      "text/plain": [
       "<sklearn.metrics._plot.confusion_matrix.ConfusionMatrixDisplay at 0x2afbd77d0>"
      ]
     },
     "execution_count": 40,
     "metadata": {},
     "output_type": "execute_result"
    },
    {
     "data": {
      "image/png": "[encoded data removed]",
      "text/plain": [
       "<Figure size 640x480 with 2 Axes>"
      ]
     },
     "metadata": {},
     "output_type": "display_data"
    }
   ],
   "source": [
    "# 評価データ\n",
    "test_cm = confusion_matrix(test['category'], test_pred[0], labels = lg.classes_ )\n",
    "print(test_cm)\n",
    "test_disp = ConfusionMatrixDisplay(confusion_matrix= test_cm, display_labels= lg.classes_)\n",
    "test_disp.plot(cmap=plt.cm.Blues)"
   ]
  },
  {
   "cell_type": "code",
   "execution_count": 41,
   "metadata": {},
   "outputs": [
    {
     "name": "stdout",
     "output_type": "stream",
     "text": [
      "             適合率       再現率     F1スコア\n",
      "b       0.880795  0.944938  0.911740\n",
      "e       0.881647  0.973485  0.925293\n",
      "t       0.946429  0.582418  0.721088\n",
      "m       0.890110  0.532895  0.666667\n",
      "マイクロ平均  0.884558  0.884558  0.884558\n",
      "マクロ平均   0.899745  0.758434  0.806197\n"
     ]
    }
   ],
   "source": [
    "# 56 適合率，再現率，F1スコアの計測\n",
    "from sklearn.metrics import precision_score, recall_score, f1_score\n",
    "\n",
    "def calculate_scores(y_true, y_pred):\n",
    "  # 適合率\n",
    "  precision = precision_score(test['category'], test_pred[0], average=None, labels = lg.classes_)  # Noneを指定するとクラスごとの精度をndarrayで返す\n",
    "  precision = np.append(precision, precision_score(y_true, y_pred, average='micro'))  # 末尾にマイクロ平均を追加\n",
    "  precision = np.append(precision, precision_score(y_true, y_pred, average='macro'))  # 末尾にマクロ平均を追加\n",
    "\n",
    "  # 再現率\n",
    "  recall = recall_score(test['category'], test_pred[0], average=None, labels=lg.classes_)\n",
    "  recall = np.append(recall, recall_score(y_true, y_pred, average='micro'))\n",
    "  recall = np.append(recall, recall_score(y_true, y_pred, average='macro'))\n",
    "\n",
    "  # F1スコア\n",
    "  f1 = f1_score(test['category'], test_pred[0], average=None, labels=lg.classes_)\n",
    "  f1 = np.append(f1, f1_score(y_true, y_pred, average='micro'))\n",
    "  f1 = np.append(f1, f1_score(y_true, y_pred, average='macro'))\n",
    "\n",
    "  # 結果を結合してデータフレーム化\n",
    "  scores = pd.DataFrame({'適合率': precision, '再現率': recall, 'F1スコア': f1},\n",
    "                        index=['b', 'e', 't', 'm', 'マイクロ平均', 'マクロ平均'])\n",
    "\n",
    "  return scores\n",
    "\n",
    "print(calculate_scores(test['category'], test_pred[0]))"
   ]
  },
  {
   "cell_type": "code",
   "execution_count": 42,
   "metadata": {},
   "outputs": [
    {
     "name": "stdout",
     "output_type": "stream",
     "text": [
      "【カテゴリ】b\n"
     ]
    },
    {
     "data": {
      "text/html": [
       "<div>\n",
       "<style scoped>\n",
       "    .dataframe tbody tr th:only-of-type {\n",
       "        vertical-align: middle;\n",
       "    }\n",
       "\n",
       "    .dataframe tbody tr th {\n",
       "        vertical-align: top;\n",
       "    }\n",
       "\n",
       "    .dataframe thead th {\n",
       "        text-align: right;\n",
       "    }\n",
       "</style>\n",
       "<table border=\"1\" class=\"dataframe\">\n",
       "  <thead>\n",
       "    <tr style=\"text-align: right;\">\n",
       "      <th></th>\n",
       "      <th>1</th>\n",
       "      <th>2</th>\n",
       "      <th>3</th>\n",
       "      <th>4</th>\n",
       "      <th>5</th>\n",
       "      <th>6</th>\n",
       "      <th>7</th>\n",
       "      <th>8</th>\n",
       "      <th>9</th>\n",
       "      <th>10</th>\n",
       "    </tr>\n",
       "  </thead>\n",
       "  <tbody>\n",
       "    <tr>\n",
       "      <th>重要度上位</th>\n",
       "      <td>bank</td>\n",
       "      <td>fed</td>\n",
       "      <td>ecb</td>\n",
       "      <td>stocks</td>\n",
       "      <td>china</td>\n",
       "      <td>profit</td>\n",
       "      <td>euro</td>\n",
       "      <td>ukraine</td>\n",
       "      <td>growth</td>\n",
       "      <td>ipo</td>\n",
       "    </tr>\n",
       "    <tr>\n",
       "      <th>重要度下位</th>\n",
       "      <td>ebola</td>\n",
       "      <td>video</td>\n",
       "      <td>microsoft</td>\n",
       "      <td>facebook</td>\n",
       "      <td>heart</td>\n",
       "      <td>virus</td>\n",
       "      <td>star</td>\n",
       "      <td>aereo</td>\n",
       "      <td>tv</td>\n",
       "      <td>google</td>\n",
       "    </tr>\n",
       "  </tbody>\n",
       "</table>\n",
       "</div>"
      ],
      "text/plain": [
       "          1      2          3         4      5       6     7        8   \\\n",
       "重要度上位   bank    fed        ecb    stocks  china  profit  euro  ukraine   \n",
       "重要度下位  ebola  video  microsoft  facebook  heart   virus  star    aereo   \n",
       "\n",
       "           9       10  \n",
       "重要度上位  growth     ipo  \n",
       "重要度下位      tv  google  "
      ]
     },
     "metadata": {},
     "output_type": "display_data"
    },
    {
     "name": "stdout",
     "output_type": "stream",
     "text": [
      "\n",
      "\n",
      "【カテゴリ】e\n"
     ]
    },
    {
     "data": {
      "text/html": [
       "<div>\n",
       "<style scoped>\n",
       "    .dataframe tbody tr th:only-of-type {\n",
       "        vertical-align: middle;\n",
       "    }\n",
       "\n",
       "    .dataframe tbody tr th {\n",
       "        vertical-align: top;\n",
       "    }\n",
       "\n",
       "    .dataframe thead th {\n",
       "        text-align: right;\n",
       "    }\n",
       "</style>\n",
       "<table border=\"1\" class=\"dataframe\">\n",
       "  <thead>\n",
       "    <tr style=\"text-align: right;\">\n",
       "      <th></th>\n",
       "      <th>1</th>\n",
       "      <th>2</th>\n",
       "      <th>3</th>\n",
       "      <th>4</th>\n",
       "      <th>5</th>\n",
       "      <th>6</th>\n",
       "      <th>7</th>\n",
       "      <th>8</th>\n",
       "      <th>9</th>\n",
       "      <th>10</th>\n",
       "    </tr>\n",
       "  </thead>\n",
       "  <tbody>\n",
       "    <tr>\n",
       "      <th>重要度上位</th>\n",
       "      <td>chris</td>\n",
       "      <td>kardashian</td>\n",
       "      <td>movie</td>\n",
       "      <td>film</td>\n",
       "      <td>beyonce</td>\n",
       "      <td>kim</td>\n",
       "      <td>wedding</td>\n",
       "      <td>star</td>\n",
       "      <td>paul</td>\n",
       "      <td>miley</td>\n",
       "    </tr>\n",
       "    <tr>\n",
       "      <th>重要度下位</th>\n",
       "      <td>google</td>\n",
       "      <td>study</td>\n",
       "      <td>gm</td>\n",
       "      <td>china</td>\n",
       "      <td>says</td>\n",
       "      <td>sales</td>\n",
       "      <td>data</td>\n",
       "      <td>billion</td>\n",
       "      <td>ceo</td>\n",
       "      <td>rise</td>\n",
       "    </tr>\n",
       "  </tbody>\n",
       "</table>\n",
       "</div>"
      ],
      "text/plain": [
       "           1           2      3      4        5      6        7        8   \\\n",
       "重要度上位   chris  kardashian  movie   film  beyonce    kim  wedding     star   \n",
       "重要度下位  google       study     gm  china     says  sales     data  billion   \n",
       "\n",
       "         9      10  \n",
       "重要度上位  paul  miley  \n",
       "重要度下位   ceo   rise  "
      ]
     },
     "metadata": {},
     "output_type": "display_data"
    },
    {
     "name": "stdout",
     "output_type": "stream",
     "text": [
      "\n",
      "\n",
      "【カテゴリ】m\n"
     ]
    },
    {
     "data": {
      "text/html": [
       "<div>\n",
       "<style scoped>\n",
       "    .dataframe tbody tr th:only-of-type {\n",
       "        vertical-align: middle;\n",
       "    }\n",
       "\n",
       "    .dataframe tbody tr th {\n",
       "        vertical-align: top;\n",
       "    }\n",
       "\n",
       "    .dataframe thead th {\n",
       "        text-align: right;\n",
       "    }\n",
       "</style>\n",
       "<table border=\"1\" class=\"dataframe\">\n",
       "  <thead>\n",
       "    <tr style=\"text-align: right;\">\n",
       "      <th></th>\n",
       "      <th>1</th>\n",
       "      <th>2</th>\n",
       "      <th>3</th>\n",
       "      <th>4</th>\n",
       "      <th>5</th>\n",
       "      <th>6</th>\n",
       "      <th>7</th>\n",
       "      <th>8</th>\n",
       "      <th>9</th>\n",
       "      <th>10</th>\n",
       "    </tr>\n",
       "  </thead>\n",
       "  <tbody>\n",
       "    <tr>\n",
       "      <th>重要度上位</th>\n",
       "      <td>ebola</td>\n",
       "      <td>cancer</td>\n",
       "      <td>study</td>\n",
       "      <td>drug</td>\n",
       "      <td>fda</td>\n",
       "      <td>mers</td>\n",
       "      <td>health</td>\n",
       "      <td>medical</td>\n",
       "      <td>doctors</td>\n",
       "      <td>heart</td>\n",
       "    </tr>\n",
       "    <tr>\n",
       "      <th>重要度下位</th>\n",
       "      <td>gm</td>\n",
       "      <td>deal</td>\n",
       "      <td>facebook</td>\n",
       "      <td>sales</td>\n",
       "      <td>twitter</td>\n",
       "      <td>apple</td>\n",
       "      <td>climate</td>\n",
       "      <td>bank</td>\n",
       "      <td>fed</td>\n",
       "      <td>ceo</td>\n",
       "    </tr>\n",
       "  </tbody>\n",
       "</table>\n",
       "</div>"
      ],
      "text/plain": [
       "          1       2         3      4        5      6        7        8   \\\n",
       "重要度上位  ebola  cancer     study   drug      fda   mers   health  medical   \n",
       "重要度下位     gm    deal  facebook  sales  twitter  apple  climate     bank   \n",
       "\n",
       "            9      10  \n",
       "重要度上位  doctors  heart  \n",
       "重要度下位      fed    ceo  "
      ]
     },
     "metadata": {},
     "output_type": "display_data"
    },
    {
     "name": "stdout",
     "output_type": "stream",
     "text": [
      "\n",
      "\n",
      "【カテゴリ】t\n"
     ]
    },
    {
     "data": {
      "text/html": [
       "<div>\n",
       "<style scoped>\n",
       "    .dataframe tbody tr th:only-of-type {\n",
       "        vertical-align: middle;\n",
       "    }\n",
       "\n",
       "    .dataframe tbody tr th {\n",
       "        vertical-align: top;\n",
       "    }\n",
       "\n",
       "    .dataframe thead th {\n",
       "        text-align: right;\n",
       "    }\n",
       "</style>\n",
       "<table border=\"1\" class=\"dataframe\">\n",
       "  <thead>\n",
       "    <tr style=\"text-align: right;\">\n",
       "      <th></th>\n",
       "      <th>1</th>\n",
       "      <th>2</th>\n",
       "      <th>3</th>\n",
       "      <th>4</th>\n",
       "      <th>5</th>\n",
       "      <th>6</th>\n",
       "      <th>7</th>\n",
       "      <th>8</th>\n",
       "      <th>9</th>\n",
       "      <th>10</th>\n",
       "    </tr>\n",
       "  </thead>\n",
       "  <tbody>\n",
       "    <tr>\n",
       "      <th>重要度上位</th>\n",
       "      <td>google</td>\n",
       "      <td>facebook</td>\n",
       "      <td>microsoft</td>\n",
       "      <td>apple</td>\n",
       "      <td>climate</td>\n",
       "      <td>gm</td>\n",
       "      <td>nasa</td>\n",
       "      <td>tesla</td>\n",
       "      <td>moon</td>\n",
       "      <td>googles</td>\n",
       "    </tr>\n",
       "    <tr>\n",
       "      <th>重要度下位</th>\n",
       "      <td>drug</td>\n",
       "      <td>stocks</td>\n",
       "      <td>american</td>\n",
       "      <td>shares</td>\n",
       "      <td>fed</td>\n",
       "      <td>cancer</td>\n",
       "      <td>ecb</td>\n",
       "      <td>obamacare</td>\n",
       "      <td>ebola</td>\n",
       "      <td>percent</td>\n",
       "    </tr>\n",
       "  </tbody>\n",
       "</table>\n",
       "</div>"
      ],
      "text/plain": [
       "           1         2          3       4        5       6     7          8   \\\n",
       "重要度上位  google  facebook  microsoft   apple  climate      gm  nasa      tesla   \n",
       "重要度下位    drug    stocks   american  shares      fed  cancer   ecb  obamacare   \n",
       "\n",
       "          9        10  \n",
       "重要度上位   moon  googles  \n",
       "重要度下位  ebola  percent  "
      ]
     },
     "metadata": {},
     "output_type": "display_data"
    },
    {
     "name": "stdout",
     "output_type": "stream",
     "text": [
      "\n",
      "\n"
     ]
    }
   ],
   "source": [
    "# 57 特徴量の重みの確認\n",
    "features = X_train.columns.values\n",
    "index = [i for i in range(1, 11)]\n",
    "for c, coef in zip(lg.classes_, lg.coef_):\n",
    "  print(f'【カテゴリ】{c}')\n",
    "  best10 = pd.DataFrame(features[np.argsort(coef)[::-1][:10]], columns=['重要度上位'], index=index).T\n",
    "  worst10 = pd.DataFrame(features[np.argsort(coef)[:10]], columns=['重要度下位'], index=index).T\n",
    "  display(pd.concat([best10, worst10], axis=0))\n",
    "  print('\\n')"
   ]
  },
  {
   "cell_type": "code",
   "execution_count": 66,
   "metadata": {},
   "outputs": [
    {
     "name": "stderr",
     "output_type": "stream",
     "text": [
      "100%|██████████| 10/10 [02:43<00:00, 16.31s/it]\n"
     ]
    }
   ],
   "source": [
    "# 58. 正則化パラメータの変更 \n",
    "from tqdm import tqdm\n",
    "\n",
    "result = []\n",
    "for C in tqdm(np.logspace(-5, 4, 10, base=10)):\n",
    "  # モデルの学習\n",
    "  # Smaller values of C specify stronger regularization\n",
    "  lg = LogisticRegression(random_state=123, max_iter=10000, C=C)\n",
    "  lg.fit(X_train, train['category'])\n",
    "\n",
    "  # 予測値の取得\n",
    "  train_pred = score_lg(lg, X_train)\n",
    "  valid_pred = score_lg(lg, X_valid)\n",
    "  test_pred = score_lg(lg, X_test)\n",
    "\n",
    "  # 正解率の算出\n",
    "  train_accuracy = accuracy_score(train['category'], train_pred[1])\n",
    "  valid_accuracy = accuracy_score(valid['category'], valid_pred[1])\n",
    "  test_accuracy = accuracy_score(test['category'], test_pred[1])\n",
    "\n",
    "  # 結果の格納\n",
    "  result.append([C, train_accuracy, valid_accuracy, test_accuracy])"
   ]
  },
  {
   "cell_type": "code",
   "execution_count": 67,
   "metadata": {},
   "outputs": [
    {
     "data": {
      "image/png": "[encoded data removed]",
      "text/plain": [
       "<Figure size 640x480 with 1 Axes>"
      ]
     },
     "metadata": {},
     "output_type": "display_data"
    }
   ],
   "source": [
    "# 視覚化\n",
    "result = np.array(result).T\n",
    "plt.plot(result[0], result[1], label='train')\n",
    "plt.plot(result[0], result[2], label='valid')\n",
    "plt.plot(result[0], result[3], label='test')\n",
    "plt.ylim(0, 1.1)\n",
    "plt.ylabel('Accuracy')\n",
    "plt.xscale ('log')\n",
    "plt.xlabel('C')\n",
    "plt.legend()\n",
    "plt.show()"
   ]
  },
  {
   "cell_type": "code",
   "execution_count": 48,
   "metadata": {},
   "outputs": [],
   "source": [
    "# 59. ハイパーパラメータの探索\n",
    "# pip install optuna\n",
    "import optuna\n",
    "\n",
    "# 最適化対象を関数で指定\n",
    "def objective_lg(trial):\n",
    "  # チューニング対象パラメータのセット\n",
    "  l1_ratio = trial.suggest_uniform('l1_ratio', 0, 1)\n",
    "  C = trial.suggest_loguniform('C', 1e-4, 1e4)\n",
    "\n",
    "  # モデルの学習\n",
    "  # 'elasticnet' is a type of regularization that combines L1 and L2 penalties.\n",
    "  # The l1_ratio parameter controls the balance between L1 and L2 regularization. A value of 0 corresponds to L2 penalty only (Ridge regression) and a value of 1 to L1 penalty only (Lasso regression).\n",
    "  lg = LogisticRegression(random_state=123, \n",
    "                          max_iter=10000, \n",
    "                          penalty='elasticnet', \n",
    "                          solver='saga', \n",
    "                          l1_ratio=l1_ratio, \n",
    "                          C=C)\n",
    "  lg.fit(X_train, train['category'])\n",
    "\n",
    "  # 予測値の取得\n",
    "  valid_pred = score_lg(lg, X_valid)\n",
    "\n",
    "  # 正解率の算出\n",
    "  valid_accuracy = accuracy_score(valid['category'], valid_pred[0])    \n",
    "\n",
    "  return valid_accuracy "
   ]
  },
  {
   "cell_type": "code",
   "execution_count": 49,
   "metadata": {},
   "outputs": [
    {
     "name": "stderr",
     "output_type": "stream",
     "text": [
      "[I 2023-06-19 15:01:11,595] A new study created in memory with name: no-name-ef1ff0de-778f-4175-bb69-40915dbb4570\n",
      "/var/folders/_t/r2bcv22124721pbl9zz3h0nh0000gn/T/ipykernel_7882/4128615889.py:10: FutureWarning: suggest_uniform has been deprecated in v3.0.0. This feature will be removed in v6.0.0. See https://github.com/optuna/optuna/releases/tag/v3.0.0. Use suggest_float instead.\n",
      "  l1_ratio = trial.suggest_uniform('l1_ratio', 0, 1)\n",
      "/var/folders/_t/r2bcv22124721pbl9zz3h0nh0000gn/T/ipykernel_7882/4128615889.py:11: FutureWarning: suggest_loguniform has been deprecated in v3.0.0. This feature will be removed in v6.0.0. See https://github.com/optuna/optuna/releases/tag/v3.0.0. Use suggest_float(..., log=True) instead.\n",
      "  C = trial.suggest_loguniform('C', 1e-4, 1e4)\n",
      "[I 2023-06-19 15:01:42,323] Trial 0 finished with value: 0.4490254872563718 and parameters: {'l1_ratio': 0.6846290600704323, 'C': 0.027586882185669244}. Best is trial 0 with value: 0.4490254872563718.\n",
      "/var/folders/_t/r2bcv22124721pbl9zz3h0nh0000gn/T/ipykernel_7882/4128615889.py:10: FutureWarning: suggest_uniform has been deprecated in v3.0.0. This feature will be removed in v6.0.0. See https://github.com/optuna/optuna/releases/tag/v3.0.0. Use suggest_float instead.\n",
      "  l1_ratio = trial.suggest_uniform('l1_ratio', 0, 1)\n",
      "/var/folders/_t/r2bcv22124721pbl9zz3h0nh0000gn/T/ipykernel_7882/4128615889.py:11: FutureWarning: suggest_loguniform has been deprecated in v3.0.0. This feature will be removed in v6.0.0. See https://github.com/optuna/optuna/releases/tag/v3.0.0. Use suggest_float(..., log=True) instead.\n",
      "  C = trial.suggest_loguniform('C', 1e-4, 1e4)\n",
      "[I 2023-06-19 15:02:49,220] Trial 1 finished with value: 0.8823088455772113 and parameters: {'l1_ratio': 0.3504833618642498, 'C': 1.5045449762521486}. Best is trial 1 with value: 0.8823088455772113.\n",
      "/var/folders/_t/r2bcv22124721pbl9zz3h0nh0000gn/T/ipykernel_7882/4128615889.py:10: FutureWarning: suggest_uniform has been deprecated in v3.0.0. This feature will be removed in v6.0.0. See https://github.com/optuna/optuna/releases/tag/v3.0.0. Use suggest_float instead.\n",
      "  l1_ratio = trial.suggest_uniform('l1_ratio', 0, 1)\n",
      "/var/folders/_t/r2bcv22124721pbl9zz3h0nh0000gn/T/ipykernel_7882/4128615889.py:11: FutureWarning: suggest_loguniform has been deprecated in v3.0.0. This feature will be removed in v6.0.0. See https://github.com/optuna/optuna/releases/tag/v3.0.0. Use suggest_float(..., log=True) instead.\n",
      "  C = trial.suggest_loguniform('C', 1e-4, 1e4)\n",
      "[I 2023-06-19 15:02:57,250] Trial 2 finished with value: 0.42128935532233885 and parameters: {'l1_ratio': 0.06961053738464229, 'C': 0.0003637144616214552}. Best is trial 1 with value: 0.8823088455772113.\n",
      "/var/folders/_t/r2bcv22124721pbl9zz3h0nh0000gn/T/ipykernel_7882/4128615889.py:10: FutureWarning: suggest_uniform has been deprecated in v3.0.0. This feature will be removed in v6.0.0. See https://github.com/optuna/optuna/releases/tag/v3.0.0. Use suggest_float instead.\n",
      "  l1_ratio = trial.suggest_uniform('l1_ratio', 0, 1)\n",
      "/var/folders/_t/r2bcv22124721pbl9zz3h0nh0000gn/T/ipykernel_7882/4128615889.py:11: FutureWarning: suggest_loguniform has been deprecated in v3.0.0. This feature will be removed in v6.0.0. See https://github.com/optuna/optuna/releases/tag/v3.0.0. Use suggest_float(..., log=True) instead.\n",
      "  C = trial.suggest_loguniform('C', 1e-4, 1e4)\n",
      "[I 2023-06-19 15:03:06,693] Trial 3 finished with value: 0.42128935532233885 and parameters: {'l1_ratio': 0.49438548163434515, 'C': 0.0018898070447639769}. Best is trial 1 with value: 0.8823088455772113.\n",
      "/var/folders/_t/r2bcv22124721pbl9zz3h0nh0000gn/T/ipykernel_7882/4128615889.py:10: FutureWarning: suggest_uniform has been deprecated in v3.0.0. This feature will be removed in v6.0.0. See https://github.com/optuna/optuna/releases/tag/v3.0.0. Use suggest_float instead.\n",
      "  l1_ratio = trial.suggest_uniform('l1_ratio', 0, 1)\n",
      "/var/folders/_t/r2bcv22124721pbl9zz3h0nh0000gn/T/ipykernel_7882/4128615889.py:11: FutureWarning: suggest_loguniform has been deprecated in v3.0.0. This feature will be removed in v6.0.0. See https://github.com/optuna/optuna/releases/tag/v3.0.0. Use suggest_float(..., log=True) instead.\n",
      "  C = trial.suggest_loguniform('C', 1e-4, 1e4)\n",
      "[I 2023-06-19 15:14:27,884] Trial 4 finished with value: 0.8823088455772113 and parameters: {'l1_ratio': 0.9792247039036994, 'C': 4.135849267074145}. Best is trial 1 with value: 0.8823088455772113.\n",
      "/var/folders/_t/r2bcv22124721pbl9zz3h0nh0000gn/T/ipykernel_7882/4128615889.py:10: FutureWarning: suggest_uniform has been deprecated in v3.0.0. This feature will be removed in v6.0.0. See https://github.com/optuna/optuna/releases/tag/v3.0.0. Use suggest_float instead.\n",
      "  l1_ratio = trial.suggest_uniform('l1_ratio', 0, 1)\n",
      "/var/folders/_t/r2bcv22124721pbl9zz3h0nh0000gn/T/ipykernel_7882/4128615889.py:11: FutureWarning: suggest_loguniform has been deprecated in v3.0.0. This feature will be removed in v6.0.0. See https://github.com/optuna/optuna/releases/tag/v3.0.0. Use suggest_float(..., log=True) instead.\n",
      "  C = trial.suggest_loguniform('C', 1e-4, 1e4)\n",
      "[I 2023-06-19 15:14:35,959] Trial 5 finished with value: 0.42128935532233885 and parameters: {'l1_ratio': 0.11394449819958286, 'C': 0.0003714822471563457}. Best is trial 1 with value: 0.8823088455772113.\n",
      "/var/folders/_t/r2bcv22124721pbl9zz3h0nh0000gn/T/ipykernel_7882/4128615889.py:10: FutureWarning: suggest_uniform has been deprecated in v3.0.0. This feature will be removed in v6.0.0. See https://github.com/optuna/optuna/releases/tag/v3.0.0. Use suggest_float instead.\n",
      "  l1_ratio = trial.suggest_uniform('l1_ratio', 0, 1)\n",
      "/var/folders/_t/r2bcv22124721pbl9zz3h0nh0000gn/T/ipykernel_7882/4128615889.py:11: FutureWarning: suggest_loguniform has been deprecated in v3.0.0. This feature will be removed in v6.0.0. See https://github.com/optuna/optuna/releases/tag/v3.0.0. Use suggest_float(..., log=True) instead.\n",
      "  C = trial.suggest_loguniform('C', 1e-4, 1e4)\n",
      "[I 2023-06-19 15:40:51,617] Trial 6 finished with value: 0.8898050974512743 and parameters: {'l1_ratio': 0.8518481112003959, 'C': 41.738988797732226}. Best is trial 6 with value: 0.8898050974512743.\n",
      "/var/folders/_t/r2bcv22124721pbl9zz3h0nh0000gn/T/ipykernel_7882/4128615889.py:10: FutureWarning: suggest_uniform has been deprecated in v3.0.0. This feature will be removed in v6.0.0. See https://github.com/optuna/optuna/releases/tag/v3.0.0. Use suggest_float instead.\n",
      "  l1_ratio = trial.suggest_uniform('l1_ratio', 0, 1)\n",
      "/var/folders/_t/r2bcv22124721pbl9zz3h0nh0000gn/T/ipykernel_7882/4128615889.py:11: FutureWarning: suggest_loguniform has been deprecated in v3.0.0. This feature will be removed in v6.0.0. See https://github.com/optuna/optuna/releases/tag/v3.0.0. Use suggest_float(..., log=True) instead.\n",
      "  C = trial.suggest_loguniform('C', 1e-4, 1e4)\n",
      "[I 2023-06-19 15:40:56,772] Trial 7 finished with value: 0.42128935532233885 and parameters: {'l1_ratio': 0.7364195730035891, 'C': 0.0005862064823113078}. Best is trial 6 with value: 0.8898050974512743.\n",
      "/var/folders/_t/r2bcv22124721pbl9zz3h0nh0000gn/T/ipykernel_7882/4128615889.py:10: FutureWarning: suggest_uniform has been deprecated in v3.0.0. This feature will be removed in v6.0.0. See https://github.com/optuna/optuna/releases/tag/v3.0.0. Use suggest_float instead.\n",
      "  l1_ratio = trial.suggest_uniform('l1_ratio', 0, 1)\n",
      "/var/folders/_t/r2bcv22124721pbl9zz3h0nh0000gn/T/ipykernel_7882/4128615889.py:11: FutureWarning: suggest_loguniform has been deprecated in v3.0.0. This feature will be removed in v6.0.0. See https://github.com/optuna/optuna/releases/tag/v3.0.0. Use suggest_float(..., log=True) instead.\n",
      "  C = trial.suggest_loguniform('C', 1e-4, 1e4)\n",
      "[I 2023-06-19 15:41:54,278] Trial 8 finished with value: 0.8455772113943029 and parameters: {'l1_ratio': 0.8245455044394852, 'C': 0.6406187972250034}. Best is trial 6 with value: 0.8898050974512743.\n",
      "/var/folders/_t/r2bcv22124721pbl9zz3h0nh0000gn/T/ipykernel_7882/4128615889.py:10: FutureWarning: suggest_uniform has been deprecated in v3.0.0. This feature will be removed in v6.0.0. See https://github.com/optuna/optuna/releases/tag/v3.0.0. Use suggest_float instead.\n",
      "  l1_ratio = trial.suggest_uniform('l1_ratio', 0, 1)\n",
      "/var/folders/_t/r2bcv22124721pbl9zz3h0nh0000gn/T/ipykernel_7882/4128615889.py:11: FutureWarning: suggest_loguniform has been deprecated in v3.0.0. This feature will be removed in v6.0.0. See https://github.com/optuna/optuna/releases/tag/v3.0.0. Use suggest_float(..., log=True) instead.\n",
      "  C = trial.suggest_loguniform('C', 1e-4, 1e4)\n",
      "[I 2023-06-19 16:09:17,490] Trial 9 finished with value: 0.8898050974512743 and parameters: {'l1_ratio': 0.7799353403857824, 'C': 69.26637177570183}. Best is trial 6 with value: 0.8898050974512743.\n"
     ]
    },
    {
     "name": "stdout",
     "output_type": "stream",
     "text": [
      "Best trial:\n",
      "  Value: 0.890\n",
      "  Params: \n",
      "    l1_ratio: 0.8518481112003959\n",
      "    C: 41.738988797732226\n"
     ]
    }
   ],
   "source": [
    "# 最適化\n",
    "study = optuna.create_study(direction='maximize')\n",
    "study.optimize(objective_lg, timeout=3600)\n",
    "\n",
    "# 結果の表示\n",
    "print('Best trial:')\n",
    "trial = study.best_trial\n",
    "print('  Value: {:.3f}'.format(trial.value))\n",
    "print('  Params: ')\n",
    "for key, value in trial.params.items():\n",
    "  print('    {}: {}'.format(key, value))"
   ]
  }
 ],
 "metadata": {
  "kernelspec": {
   "display_name": "Python 3",
   "language": "python",
   "name": "python3"
  },
  "language_info": {
   "codemirror_mode": {
    "name": "ipython",
    "version": 3
   },
   "file_extension": ".py",
   "mimetype": "text/x-python",
   "name": "python",
   "nbconvert_exporter": "python",
   "pygments_lexer": "ipython3",
   "version": "3.11.3"
  },
  "orig_nbformat": 4
 },
 "nbformat": 4,
 "nbformat_minor": 2
}
