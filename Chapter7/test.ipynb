{
 "cells": [
  {
   "cell_type": "code",
   "execution_count": 4,
   "metadata": {},
   "outputs": [
    {
     "name": "stdout",
     "output_type": "stream",
     "text": [
      "[['11' '12' '13']\n",
      " ['21' '22' '23']\n",
      " ['31' '32' '33']\n",
      " ['41' '42' '43']]\n"
     ]
    }
   ],
   "source": [
    "l = [['11', '12', '13'], ['21', '22', '23'], ['31', '32', '33'], ['41', '42', '43']]\n",
    "import numpy as np\n",
    "la = np.array(l)\n",
    "print(la)"
   ]
  },
  {
   "cell_type": "code",
   "execution_count": 5,
   "metadata": {},
   "outputs": [
    {
     "data": {
      "text/plain": [
       "array([['11', '21', '31', '41'],\n",
       "       ['12', '22', '32', '42'],\n",
       "       ['13', '23', '33', '43']], dtype='<U2')"
      ]
     },
     "execution_count": 5,
     "metadata": {},
     "output_type": "execute_result"
    }
   ],
   "source": [
    "la.T"
   ]
  },
  {
   "cell_type": "code",
   "execution_count": 2,
   "metadata": {},
   "outputs": [
    {
     "name": "stdout",
     "output_type": "stream",
     "text": [
      "(5, 2)\n",
      "[[1.4 0.2]\n",
      " [1.5 0.2]\n",
      " [1.7 0.2]\n",
      " [1.6 0.2]\n",
      " [1.3 0.3]]\n",
      "(4, 4)\n",
      "[[2.         3.         0.1        2.        ]\n",
      " [0.         1.         0.1        2.        ]\n",
      " [4.         6.         0.2081666  3.        ]\n",
      " [5.         7.         0.39072582 5.        ]]\n"
     ]
    }
   ],
   "source": [
    "from sklearn.datasets import load_iris\n",
    "from scipy.cluster.hierarchy import linkage\n",
    "X = load_iris().data[::10, 2:4][:5]\n",
    "print(X.shape)  # (15, 2)\n",
    "print(X)\n",
    "# ユークリッド距離とウォード法を使用してクラスタリング\n",
    "z = linkage(X, metric='euclidean', method='ward')\n",
    "print(z.shape)  # (14, 4)\n",
    "print(z)\n",
    "# 以下出力"
   ]
  }
 ],
 "metadata": {
  "kernelspec": {
   "display_name": "Python 3",
   "language": "python",
   "name": "python3"
  },
  "language_info": {
   "codemirror_mode": {
    "name": "ipython",
    "version": 3
   },
   "file_extension": ".py",
   "mimetype": "text/x-python",
   "name": "python",
   "nbconvert_exporter": "python",
   "pygments_lexer": "ipython3",
   "version": "3.11.3"
  },
  "orig_nbformat": 4
 },
 "nbformat": 4,
 "nbformat_minor": 2
}
