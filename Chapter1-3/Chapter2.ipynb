{
 "cells": [
  {
   "cell_type": "code",
   "execution_count": 17,
   "metadata": {},
   "outputs": [
    {
     "name": "stdout",
     "output_type": "stream",
     "text": [
      "--2023-05-01 14:59:53--  https://nlp100.github.io/data/popular-names.txt\n",
      "Resolving nlp100.github.io (nlp100.github.io)... 2606:50c0:8001::153, 2606:50c0:8003::153, 2606:50c0:8000::153, ...\n",
      "Connecting to nlp100.github.io (nlp100.github.io)|2606:50c0:8001::153|:443... connected.\n",
      "HTTP request sent, awaiting response... 200 OK\n",
      "Length: 55026 (54K) [text/plain]\n",
      "Saving to: ‘popular-names.txt.2’\n",
      "\n",
      "popular-names.txt.2 100%[===================>]  53.74K  --.-KB/s    in 0.008s  \n",
      "\n",
      "2023-05-01 14:59:53 (6.66 MB/s) - ‘popular-names.txt.2’ saved [55026/55026]\n",
      "\n"
     ]
    }
   ],
   "source": [
    "!wget https://nlp100.github.io/data/popular-names.txt"
   ]
  },
  {
   "cell_type": "code",
   "execution_count": 2,
   "metadata": {},
   "outputs": [
    {
     "name": "stdout",
     "output_type": "stream",
     "text": [
      "Mary\tF\t7065\t1880\n",
      "\n"
     ]
    }
   ],
   "source": [
    "# for line in open('popular-names.txt'):\n",
    "#     print(line)\n",
    "#     break"
   ]
  },
  {
   "cell_type": "code",
   "execution_count": 3,
   "metadata": {},
   "outputs": [],
   "source": [
    "import pandas as pd\n",
    "import numpy as np"
   ]
  },
  {
   "cell_type": "code",
   "execution_count": 86,
   "metadata": {},
   "outputs": [
    {
     "name": "stdout",
     "output_type": "stream",
     "text": [
      "2780\n"
     ]
    }
   ],
   "source": [
    "# 10 行数のカウント\n",
    "with open('popular-names.txt', 'r') as f:\n",
    "    count = sum(1 for _ in f)\n",
    "\n",
    "print(count)\n",
    "\n",
    "# df = pd.read_csv(\"popular-names.txt\", header=None, sep=\"\\t\", names=['name', 'sex', 'number', 'year'])\n",
    "# print(df.sum(axis=1))\n",
    "#print(df.shape[0])\n",
    "\n",
    "# !wc -l ./popular-names.txt"
   ]
  },
  {
   "cell_type": "code",
   "execution_count": 87,
   "metadata": {},
   "outputs": [],
   "source": [
    "# 11 タブをスペースに置換\n",
    "with open('./popular-names.txt','r') as f:\n",
    "    for line in f:\n",
    "        convert_line = line.replace('\\t',' ')\n",
    "\n",
    "# df = df.replace(\"\\t\", \" \", regex=True)\n",
    "        \n",
    "# !sed 's/\\t/ /g' ./popular-names.txt\n",
    "# !cat ./popular-names.txt | tr \"\\t\" \" \"\n",
    "# !expand -t 1 ./popular-names.txt"
   ]
  },
  {
   "cell_type": "code",
   "execution_count": 88,
   "metadata": {},
   "outputs": [],
   "source": [
    "# 12 1列目をcol1.txtに，2列目をcol2.txtに保存\n",
    "with open('./popular-names.txt', 'r') as f, \\\n",
    "     open('col1.txt', 'w') as col1_f, \\\n",
    "     open('col2.txt', 'w') as col2_f:\n",
    "    for line in f:\n",
    "        columns = line.strip().split('\\t')\n",
    "        col1_f.write(columns[0] + '\\n')\n",
    "        col2_f.write(columns[1] + '\\n')\n",
    "\n",
    "# df['name'].to_csv('./col1.txt', index=False)\n",
    "# df['sex'].to_csv('./col2.txt', index=False)\n",
    "\n",
    "# !cat ./popular-names.txt | tr \"\\t\" \" \" | cut -d\" \" -f1 > col1.txt\n",
    "# !cat ./popular-names.txt | tr \"\\t\" \" \" | cut -d\" \" -f2 > col2.txt"
   ]
  },
  {
   "cell_type": "code",
   "execution_count": 89,
   "metadata": {},
   "outputs": [],
   "source": [
    "# 13 col1.txtとcol2.txtをマージ\n",
    "with open('col1.txt', 'r') as col1_file, \\\n",
    "     open('col2.txt', 'r') as col2_file, \\\n",
    "     open('col1_2.txt', 'w') as output_file:\n",
    "    for col1, col2 in zip(col1_file, col2_file):\n",
    "        output_file.write(col1.strip() + '\\t' + col2.strip() + '\\n')\n",
    "\n",
    "# col1 = pd.read_table('./col1.txt')\n",
    "# col2 = pd.read_table('./col2.txt')\n",
    "# merged_1_2 = pd.concat([col1, col2], axis=1)\n",
    "# merged_1_2.to_csv('./merged_1_2.txt', sep='\\t', index=False)\n",
    "# merged_1_2.head()\n",
    "\n",
    "# !paste -d\"\\t\" col1.txt col2.txt > col1_2.txt"
   ]
  },
  {
   "cell_type": "code",
   "execution_count": 90,
   "metadata": {},
   "outputs": [
    {
     "name": "stdout",
     "output_type": "stream",
     "text": [
      "Mary\tF\t7065\t1880\n",
      "Anna\tF\t2604\t1880\n",
      "Emma\tF\t2003\t1880\n",
      "Elizabeth\tF\t1939\t1880\n",
      "Minnie\tF\t1746\t1880\n"
     ]
    }
   ],
   "source": [
    "# 14 先頭からN行を出力\n",
    "def file_head(file, n:int):\n",
    "    row = 0\n",
    "    with open(file, 'r', encoding='utf-8') as f:\n",
    "        for line in f:\n",
    "            print(line.rstrip())\n",
    "            row += 1\n",
    "            if row >= n:\n",
    "                break\n",
    "file_head('./popular-names.txt',5)\n",
    "\n",
    "# N = input('>> ')\n",
    "# df.head(int(N))\n",
    "\n",
    "# !cat ./popular-names.txt | head -5"
   ]
  },
  {
   "cell_type": "code",
   "execution_count": 91,
   "metadata": {},
   "outputs": [
    {
     "name": "stdout",
     "output_type": "stream",
     "text": [
      "Benjamin\tM\t13381\t2018\n",
      " Elijah\tM\t12886\t2018\n",
      " Lucas\tM\t12585\t2018\n",
      " Mason\tM\t12435\t2018\n",
      " Logan\tM\t12352\t2018\n",
      "\n"
     ]
    }
   ],
   "source": [
    "# 15 末尾のN行を出力\n",
    "def file_tail(file, n:int):\n",
    "    content = []\n",
    "    with open(file, 'r', encoding='utf-8') as f:\n",
    "        for line in f:\n",
    "            content.append(line)\n",
    "    print(*content[-n:])\n",
    "file_tail('./popular-names.txt', 5)\n",
    "\n",
    "# N = input('>> ')\n",
    "# df.tail(int(N))\n",
    "\n",
    "# !cat ./popular-names.txt | tail -5"
   ]
  },
  {
   "cell_type": "code",
   "execution_count": 1,
   "metadata": {},
   "outputs": [],
   "source": [
    "# 16 ファイルをN分割する\n",
    "def file_split(file, n:int):\n",
    "    content = []\n",
    "    with open(file, 'r', encoding='utf-8') as f:\n",
    "        for line in f:\n",
    "            content.append(line)\n",
    "        lines_per_file = len(content) // n\n",
    "    for i in range(n):\n",
    "        start_index = i * lines_per_file\n",
    "        end_index = (i + 1) * lines_per_file if i < n - 1 else len(content)\n",
    "        with open('output_file_split' + str(i), 'w') as w:\n",
    "            w.writelines(content[start_index:end_index])\n",
    "file_split('./popular-names.txt', 3)\n",
    "\n",
    "# N = input('>> ')\n",
    "# chunks = np.array_split(df, int(N))\n",
    "\n",
    "# !cat ./popular-names.txt | split -n 3 -a 1 -d - output_file_split"
   ]
  },
  {
   "cell_type": "code",
   "execution_count": 2,
   "metadata": {},
   "outputs": [
    {
     "name": "stdout",
     "output_type": "stream",
     "text": [
      "136\n"
     ]
    }
   ],
   "source": [
    "# 17 １列目の文字列の異なり\n",
    "def uniq_chr(file, col):\n",
    "    res = set()\n",
    "    with open(file, 'r', encoding='utf-8') as f:\n",
    "        for line in f:\n",
    "            cols = line.rstrip().split('\\t')\n",
    "            res.add(cols[col])\n",
    "    return len(res)\n",
    "print(uniq_chr('popular-names.txt', 0))\n",
    "\n",
    "# len(df.drop_duplicates(subset='name'))\n",
    "\n",
    "# !cat ./popular-names.txt | sort | cut -f1 | uniq | wc -l"
   ]
  },
  {
   "cell_type": "code",
   "execution_count": null,
   "metadata": {},
   "outputs": [],
   "source": [
    "# 18 各行を3コラム目の数値の降順にソート \n",
    "def sort_rev(file, col:int):\n",
    "     content = []\n",
    "     with open(file, 'r', encoding='utf-8') as f:\n",
    "        for line in f:\n",
    "            content.append(line)\n",
    "     sorted_content = sorted(content, key=lambda line: float(line.split()[col-1]), reverse=True)\n",
    "     print(*sorted_content)\n",
    "\n",
    "sort_rev('popular-names.txt', 3)\n",
    "\n",
    "# df.sort_values(by='number', ascending=False, inplace=True)\n",
    "\n",
    "# !cat ./popular-names.txt | sort -nrk 3          \n",
    "# note -> n:value r:reverse "
   ]
  },
  {
   "cell_type": "code",
   "execution_count": 4,
   "metadata": {},
   "outputs": [
    {
     "name": "stdout",
     "output_type": "stream",
     "text": [
      "Counter({'James': 118, 'William': 111, 'John': 108, 'Robert': 108, 'Mary': 92, 'Charles': 75, 'Michael': 74, 'Elizabeth': 73, 'Joseph': 70, 'Margaret': 60, 'George': 58, 'Thomas': 58, 'David': 57, 'Richard': 51, 'Helen': 45, 'Frank': 43, 'Christopher': 43, 'Anna': 41, 'Edward': 40, 'Ruth': 39, 'Patricia': 38, 'Matthew': 37, 'Dorothy': 36, 'Emma': 35, 'Barbara': 32, 'Daniel': 31, 'Joshua': 31, 'Sarah': 26, 'Linda': 26, 'Jennifer': 26, 'Emily': 26, 'Jessica': 25, 'Jacob': 25, 'Mildred': 24, 'Betty': 24, 'Susan': 24, 'Henry': 23, 'Ashley': 23, 'Nancy': 22, 'Andrew': 21, 'Florence': 20, 'Marie': 20, 'Donald': 20, 'Amanda': 20, 'Samantha': 19, 'Karen': 18, 'Lisa': 18, 'Melissa': 18, 'Madison': 18, 'Olivia': 18, 'Stephanie': 17, 'Abigail': 17, 'Ethel': 16, 'Sandra': 16, 'Mark': 16, 'Frances': 15, 'Carol': 15, 'Angela': 15, 'Michelle': 15, 'Heather': 15, 'Ethan': 15, 'Isabella': 15, 'Shirley': 14, 'Kimberly': 14, 'Amy': 14, 'Ava': 14, 'Virginia': 13, 'Deborah': 13, 'Brian': 13, 'Jason': 13, 'Nicole': 13, 'Hannah': 13, 'Sophia': 13, 'Minnie': 12, 'Bertha': 12, 'Donna': 12, 'Cynthia': 11, 'Alice': 10, 'Doris': 10, 'Ronald': 10, 'Brittany': 10, 'Nicholas': 10, 'Mia': 10, 'Noah': 10, 'Joan': 9, 'Debra': 9, 'Tyler': 9, 'Ida': 8, 'Clara': 8, 'Judith': 8, 'Taylor': 8, 'Alexis': 8, 'Alexander': 8, 'Mason': 8, 'Harry': 7, 'Sharon': 7, 'Steven': 7, 'Tammy': 7, 'Brandon': 7, 'Liam': 7, 'Anthony': 6, 'Annie': 5, 'Gary': 5, 'Jeffrey': 5, 'Jayden': 5, 'Charlotte': 5, 'Lillian': 4, 'Kathleen': 4, 'Justin': 4, 'Austin': 4, 'Chloe': 4, 'Benjamin': 4, 'Evelyn': 3, 'Megan': 3, 'Aiden': 3, 'Harper': 3, 'Elijah': 3, 'Bessie': 2, 'Larry': 2, 'Rebecca': 2, 'Lauren': 2, 'Amelia': 2, 'Logan': 2, 'Oliver': 2, 'Walter': 1, 'Carolyn': 1, 'Pamela': 1, 'Lori': 1, 'Laura': 1, 'Tracy': 1, 'Julie': 1, 'Scott': 1, 'Kelly': 1, 'Crystal': 1, 'Rachel': 1, 'Lucas': 1})\n"
     ]
    }
   ],
   "source": [
    "# 19 各行の1コラム目の文字列の出現頻度を求め，出現頻度の高い順に並べる\n",
    "from collections import Counter\n",
    "def chr_freq(file, col:int):\n",
    "     chr_list = []\n",
    "     with open(file, 'r', encoding='utf-8') as f:\n",
    "          for line in f:\n",
    "               chr_list.append(line.strip().split('\\t')[col-1])\n",
    "     print(Counter(chr_list))\n",
    "chr_freq('popular-names.txt', 1)\n",
    "\n",
    "# df.value_counts(\"name\")\n",
    "\n",
    "# !cat ./popular-names.txt | sort | cut -f1 | uniq -c |sort -nr"
   ]
  },
  {
   "cell_type": "code",
   "execution_count": 55,
   "metadata": {},
   "outputs": [
    {
     "data": {
      "text/plain": [
       "name\n",
       "James      118\n",
       "William    111\n",
       "Robert     108\n",
       "John       108\n",
       "Mary        92\n",
       "          ... \n",
       "Laura        1\n",
       "Tracy        1\n",
       "Carolyn      1\n",
       "Kelly        1\n",
       "Walter       1\n",
       "Name: count, Length: 136, dtype: int64"
      ]
     },
     "execution_count": 55,
     "metadata": {},
     "output_type": "execute_result"
    }
   ],
   "source": []
  }
 ],
 "metadata": {
  "kernelspec": {
   "display_name": "Python 3",
   "language": "python",
   "name": "python3"
  },
  "language_info": {
   "codemirror_mode": {
    "name": "ipython",
    "version": 3
   },
   "file_extension": ".py",
   "mimetype": "text/x-python",
   "name": "python",
   "nbconvert_exporter": "python",
   "pygments_lexer": "ipython3",
   "version": "3.11.3"
  },
  "orig_nbformat": 4
 },
 "nbformat": 4,
 "nbformat_minor": 2
}
