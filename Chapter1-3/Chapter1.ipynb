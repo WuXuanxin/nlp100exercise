{
 "cells": [
  {
   "cell_type": "code",
   "execution_count": 1,
   "metadata": {},
   "outputs": [
    {
     "name": "stdout",
     "output_type": "stream",
     "text": [
      "desserts\n"
     ]
    }
   ],
   "source": [
    "# 00. 文字列の逆順\n",
    "s = \"stressed\"\n",
    "print(s[::-1])"
   ]
  },
  {
   "cell_type": "code",
   "execution_count": 5,
   "metadata": {},
   "outputs": [
    {
     "name": "stdout",
     "output_type": "stream",
     "text": [
      "パトカー\n"
     ]
    }
   ],
   "source": [
    "# 01.「パタトクカシーー」\n",
    "s = \"パタトクカシーー\"\n",
    "s_comb = s[0] + s[2] + s[4] + s[6]\n",
    "print(s_comb)\n",
    "\n",
    "# print(s[::2])"
   ]
  },
  {
   "cell_type": "code",
   "execution_count": 3,
   "metadata": {},
   "outputs": [
    {
     "name": "stdout",
     "output_type": "stream",
     "text": [
      "パタトクカシーー\n"
     ]
    }
   ],
   "source": [
    "# 02. 「パトカー」＋「タクシー」＝「パタトクカシーー」\n",
    "s1 = \"パトカー\"\n",
    "s2 = \"タクシー\"\n",
    "s = \"\" \n",
    "for i in range(len(s1)):\n",
    "  s += s1[i] + s2[i]\n",
    "print(s)"
   ]
  },
  {
   "cell_type": "code",
   "execution_count": 7,
   "metadata": {},
   "outputs": [
    {
     "name": "stdout",
     "output_type": "stream",
     "text": [
      "[3, 1, 4, 1, 5, 9, 2, 6, 5, 3, 5, 8, 9, 7, 9]\n"
     ]
    }
   ],
   "source": [
    "# 03. 円周率\n",
    "import string\n",
    "s = \"Now I need a drink, alcoholic of course, after the heavy lectures involving quantum mechanics.\"\n",
    "s1 = s.translate(str.maketrans('', '', string.punctuation))\n",
    "s2 = s1.split()\n",
    "print([len(word) for word in s2])"
   ]
  },
  {
   "cell_type": "code",
   "execution_count": 8,
   "metadata": {},
   "outputs": [
    {
     "name": "stdout",
     "output_type": "stream",
     "text": [
      "{'H': 0, 'He': 1, 'Li': 2, 'Be': 3, 'B': 4, 'C': 5, 'N': 6, 'O': 7, 'F': 8, 'Ne': 9, 'Na': 10, 'Mi': 11, 'Al': 12, 'Si': 13, 'P': 14, 'S': 15, 'Cl': 16, 'Ar': 17, 'K': 18, 'Ca': 19}\n"
     ]
    }
   ],
   "source": [
    "# 04. 元素記号\n",
    "s = \"Hi He Lied Because Boron Could Not Oxidize Fluorine. New Nations Might Also Sign Peace Security Clause. Arthur King Can.\"\n",
    "s_list = s.split()\n",
    "d = {} \n",
    "for i in range(len(s_list)):\n",
    "  if i in (0,4,5,6,7,8,14,15,18):\n",
    "    chrt = s_list[i][0]\n",
    "  else:\n",
    "    chrt = s_list[i][0:2]\n",
    "  d[chrt] = i\n",
    "print(d)"
   ]
  },
  {
   "cell_type": "code",
   "execution_count": 10,
   "metadata": {},
   "outputs": [
    {
     "name": "stdout",
     "output_type": "stream",
     "text": [
      "[['I', 'am'], ['am', 'an'], ['an', 'NLPer']]\n",
      "['I ', ' a', 'am', 'm ', ' a', 'an', 'n ', ' N', 'NL', 'LP', 'Pe', 'er']\n"
     ]
    }
   ],
   "source": [
    "# 05. n-gram\n",
    "def ngram_word(s, n):\n",
    "  s_list = s.split()\n",
    "  l = len(s_list)\n",
    "  ngram_list = [s_list[index:index+n] for index in range(0,l-n+1)]\n",
    "  return ngram_list\n",
    "\n",
    "def ngram_letter(s, n):\n",
    "  s_list = list(s)\n",
    "  l = len(s_list)\n",
    "  ngram_list = [\"\".join(s_list[index:index+n]) for index in range(0,l-n+1)]\n",
    "  return ngram_list\n",
    "\n",
    "print(ngram_word(\"I am an NLPer\",2))\n",
    "print(ngram_letter(\"I am an NLPer\",2))"
   ]
  },
  {
   "cell_type": "code",
   "execution_count": 12,
   "metadata": {},
   "outputs": [
    {
     "name": "stdout",
     "output_type": "stream",
     "text": [
      "{'ra', 'ap', 'ar', 'pa', 'se', 'ag', 'di', 'is', 'ph', 'ad', 'gr'}\n",
      "{'ra', 'pa', 'ap', 'ar'}\n",
      "{'is', 'di', 'ad', 'se'}\n",
      "True\n",
      "False\n"
     ]
    }
   ],
   "source": [
    "# 06. 集合\n",
    "def ngram_letter(s, n):\n",
    "  s_list = list(s)\n",
    "  l = len(s_list)\n",
    "  ngram_list = [\"\".join(s_list[index:index+n]) for index in range(0,l-n+1)]\n",
    "  ngram_list = set(ngram_list)\n",
    "  return ngram_list\n",
    "\n",
    "X = ngram_letter(\"paraparaparadise\",2)\n",
    "Y = ngram_letter(\"paragraph\",2)\n",
    "print(X|Y)\n",
    "print(X&Y)\n",
    "print(X-Y)\n",
    "\n",
    "print(\"se\" in X)\n",
    "print(\"se\" in Y)"
   ]
  },
  {
   "cell_type": "code",
   "execution_count": 13,
   "metadata": {},
   "outputs": [
    {
     "name": "stdout",
     "output_type": "stream",
     "text": [
      "12時の気温は22.4\n"
     ]
    }
   ],
   "source": [
    "# 07. テンプレートによる文生成\n",
    "def connect(x,y,z):\n",
    "  x = str(x)\n",
    "  y = str(y)\n",
    "  z = str(z)  \n",
    "  return (x + \"時の\" + y + \"は\" + z)\n",
    "print(connect(12, \"気温\", 22.4))\n",
    "\n",
    "# def connect(x,y,z):\n",
    "#     return f'{x}時のとき{y}は{z}'\n",
    "# connect(12, \"気温\", 22.4)"
   ]
  },
  {
   "cell_type": "code",
   "execution_count": 15,
   "metadata": {},
   "outputs": [
    {
     "name": "stdout",
     "output_type": "stream",
     "text": [
      "I dzmg hlnv qfrxb xlimh.\n"
     ]
    }
   ],
   "source": [
    "# 08. 暗号文\n",
    "def cipher(s:str):\n",
    " cp = \"\"\n",
    " for i in s:\n",
    "   if i.islower():\n",
    "     i = chr(219 - ord(i))\n",
    "   cp += i\n",
    " return cp\n",
    "print(cipher(\"I want some juicy corns.\"))"
   ]
  },
  {
   "cell_type": "code",
   "execution_count": 20,
   "metadata": {},
   "outputs": [
    {
     "name": "stdout",
     "output_type": "stream",
     "text": [
      "変換結果:I clo’dunt blveeie that I culod ataclluy undtnsraed what I was rindaeg : the pmanenehol power of the human mind .\n"
     ]
    }
   ],
   "source": [
    "# 09. Typoglycemia\n",
    "import random\n",
    "\n",
    "def Typoglycemia(target):\n",
    "    result = []\n",
    "    for word in target.split(' '):\n",
    "        if len(word) <= 4:\n",
    "            result.append(word)\n",
    "        else:\n",
    "            chr_list = list(word[1:-1])\n",
    "            random.shuffle(chr_list)\n",
    "            result.append(word[0] + ''.join(chr_list) + word[-1])\n",
    "\n",
    "    return ' '.join(result)\n",
    "\n",
    "# 対象文字列の入力\n",
    "target = input('文字列を入力してください--> ')\n",
    "\n",
    "# タイポグリセミア\n",
    "result = Typoglycemia(target)\n",
    "print('変換結果:' + result)"
   ]
  }
 ],
 "metadata": {
  "kernelspec": {
   "display_name": "Python 3",
   "language": "python",
   "name": "python3"
  },
  "language_info": {
   "codemirror_mode": {
    "name": "ipython",
    "version": 3
   },
   "file_extension": ".py",
   "mimetype": "text/x-python",
   "name": "python",
   "nbconvert_exporter": "python",
   "pygments_lexer": "ipython3",
   "version": "3.11.3"
  },
  "orig_nbformat": 4
 },
 "nbformat": 4,
 "nbformat_minor": 2
}
